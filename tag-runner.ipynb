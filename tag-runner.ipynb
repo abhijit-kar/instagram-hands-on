{
 "cells": [
  {
   "cell_type": "code",
   "execution_count": 1,
   "metadata": {
    "collapsed": true
   },
   "outputs": [],
   "source": [
    "import requests"
   ]
  },
  {
   "cell_type": "code",
   "execution_count": null,
   "metadata": {},
   "outputs": [],
   "source": [
    "CLIENT_ID = input('Client ID: ')\n",
    "CLIENT_SECRET = input('Client Secret: ')\n",
    "REDIRECT_URL = 'http://www.abhijit-kar.com'\n",
    "\n",
    "CODE_URL = 'https://api.instagram.com/oauth/authorize/?client_id={}&redirect_uri={}&response_type=code'\n",
    "TOKEN_URL = 'https://api.instagram.com/oauth/access_token'\n",
    "\n",
    "# GET Tags Search\n",
    "API_ENDPOINT = 'https://api.instagram.com/v1/tags/search?q=snowy&access_token={}'"
   ]
  },
  {
   "cell_type": "markdown",
   "metadata": {},
   "source": [
    "# Manual Access Code Retrieval\n",
    "Instagram API access is a pain in the Butt  \n",
    "It assumes that only a user accesses it's APIs  \n",
    "And hence someone needs to authorize the app"
   ]
  },
  {
   "cell_type": "code",
   "execution_count": null,
   "metadata": {},
   "outputs": [],
   "source": [
    "print(CODE_URL.format(CLIENT_ID, REDIRECT_URL))"
   ]
  },
  {
   "cell_type": "code",
   "execution_count": null,
   "metadata": {},
   "outputs": [],
   "source": [
    "PAYLOAD = {'client_id': CLIENT_ID,\n",
    "           'client_secret': CLIENT_SECRET,\n",
    "           'grant_type': 'authorization_code',\n",
    "           'redirect_uri': REDIRECT_URL,\n",
    "           'code': input('Code: '),\n",
    "           'scope': 'public_content'}"
   ]
  },
  {
   "cell_type": "markdown",
   "metadata": {},
   "source": [
    "# Access Token Retrieval"
   ]
  },
  {
   "cell_type": "code",
   "execution_count": null,
   "metadata": {},
   "outputs": [],
   "source": [
    "r = requests.post(TOKEN_URL, data = PAYLOAD)\n",
    "r.json()"
   ]
  },
  {
   "cell_type": "markdown",
   "metadata": {},
   "source": [
    "# API Endpoint Access"
   ]
  },
  {
   "cell_type": "code",
   "execution_count": 6,
   "metadata": {
    "scrolled": true
   },
   "outputs": [
    {
     "data": {
      "text/plain": [
       "{'meta': {'code': 400,\n",
       "  'error_message': 'This request requires scope=public_content, but this access token is not authorized with this scope. The user must re-authorize your application with scope=public_content to be granted this permissions.',\n",
       "  'error_type': 'OAuthPermissionsException'}}"
      ]
     },
     "execution_count": 6,
     "metadata": {},
     "output_type": "execute_result"
    }
   ],
   "source": [
    "r = requests.get(API_ENDPOINT.format(r.json()['access_token']))\n",
    "r.json()"
   ]
  },
  {
   "cell_type": "markdown",
   "metadata": {},
   "source": [
    "# Problems\n",
    "1. Scope Restrictions -\n",
    "    [![Scope Restrictions]('./images/scope-restrictions')](https://www.instagram.com/developer/authorization/)\n",
    "1. Criteria For Review -\n",
    "    [![Criteria For Review]('./images/criteria-for-review')](https://www.instagram.com/developer/review/)"
   ]
  }
 ],
 "metadata": {
  "kernelspec": {
   "display_name": "Python 3",
   "language": "python",
   "name": "python3"
  },
  "language_info": {
   "codemirror_mode": {
    "name": "ipython",
    "version": 3
   },
   "file_extension": ".py",
   "mimetype": "text/x-python",
   "name": "python",
   "nbconvert_exporter": "python",
   "pygments_lexer": "ipython3",
   "version": "3.6.2"
  }
 },
 "nbformat": 4,
 "nbformat_minor": 2
}
